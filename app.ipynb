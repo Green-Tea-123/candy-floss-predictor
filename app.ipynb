{
 "cells": [
  {
   "cell_type": "code",
   "execution_count": 1,
   "metadata": {},
   "outputs": [
    {
     "name": "stdout",
     "output_type": "stream",
     "text": [
      " * Serving Flask app '__main__'\n",
      " * Debug mode: off\n"
     ]
    },
    {
     "name": "stderr",
     "output_type": "stream",
     "text": [
      "\u001b[31m\u001b[1mWARNING: This is a development server. Do not use it in a production deployment. Use a production WSGI server instead.\u001b[0m\n",
      " * Running on all addresses (0.0.0.0)\n",
      " * Running on http://127.0.0.1:5001\n",
      " * Running on http://172.20.10.12:5001\n",
      "\u001b[33mPress CTRL+C to quit\u001b[0m\n"
     ]
    }
   ],
   "source": [
    "from flask import Flask, request, jsonify\n",
    "import json\n",
    "import os\n",
    "\n",
    "app = Flask(__name__)\n",
    "DATA_FILE = 'sensor_data.json'\n",
    "\n",
    "# Initialize the data file\n",
    "if not os.path.exists(DATA_FILE):\n",
    "    with open(DATA_FILE, 'w') as f:\n",
    "        json.dump([], f)\n",
    "\n",
    "# Endpoint to receive sensor data\n",
    "@app.route('/sensor', methods=['POST'])\n",
    "def receive_sensor_data():\n",
    "    data = request.json\n",
    "    print(data)  # Print the data to the console (for debugging)\n",
    "    \n",
    "    if data:\n",
    "        # Append new data to the JSON file\n",
    "        with open(DATA_FILE, 'r+') as f:\n",
    "            existing_data = json.load(f)\n",
    "            existing_data.append(data)\n",
    "            f.seek(0)\n",
    "            json.dump(existing_data, f)\n",
    "        return jsonify({\"status\": \"success\"}), 200\n",
    "    return jsonify({\"status\": \"error\", \"message\": \"Invalid data\"}), 400\n",
    "\n",
    "if __name__ == '__main__':\n",
    "    app.run(host='0.0.0.0', port=5001)"
   ]
  }
 ],
 "metadata": {
  "kernelspec": {
   "display_name": "CS3237",
   "language": "python",
   "name": "python3"
  },
  "language_info": {
   "codemirror_mode": {
    "name": "ipython",
    "version": 3
   },
   "file_extension": ".py",
   "mimetype": "text/x-python",
   "name": "python",
   "nbconvert_exporter": "python",
   "pygments_lexer": "ipython3",
   "version": "3.11.9"
  }
 },
 "nbformat": 4,
 "nbformat_minor": 2
}
